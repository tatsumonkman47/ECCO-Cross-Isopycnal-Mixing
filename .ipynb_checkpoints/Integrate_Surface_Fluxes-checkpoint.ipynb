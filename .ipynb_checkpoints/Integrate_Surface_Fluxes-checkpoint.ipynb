{
 "cells": [
  {
   "cell_type": "code",
   "execution_count": 8,
   "metadata": {},
   "outputs": [
    {
     "data": {
      "text/html": [
       "<style>.container { width:100% !important; }</style>"
      ],
      "text/plain": [
       "<IPython.core.display.HTML object>"
      ]
     },
     "metadata": {},
     "output_type": "display_data"
    }
   ],
   "source": [
    "import warnings\n",
    "warnings.filterwarnings('ignore')\n",
    "import matplotlib.pyplot as plt\n",
    "import matplotlib.gridspec as gridspec\n",
    "import numpy as np\n",
    "import dask.array as da\n",
    "import xarray as xr\n",
    "import os\n",
    "\n",
    "\n",
    "from xmitgcm import open_mdsdataset\n",
    "import xmitgcm\n",
    "import ecco_v4_py as ecco\n",
    "\n",
    "\n",
    "from netCDF4 import Dataset\n",
    "\n",
    "import seawater\n",
    "\n",
    "from analysis_package import plotting_functions\n",
    "from analysis_package import open_datasets\n",
    "from analysis_package import derive_potential_density_values_TEST\n",
    "from analysis_package import ecco_masks\n",
    "\n",
    "from importlib import reload\n",
    "\n",
    "# reload modules for prototyping...\n",
    "ecco_masks = reload(ecco_masks)\n",
    "plotting_functions = reload(plotting_functions)\n",
    "open_datasets = reload(open_datasets)\n",
    "derive_potential_density_values_TEST = reload(derive_potential_density_values_TEST)\n",
    "\n",
    "\n",
    "from IPython.core.display import display, HTML\n",
    "display(HTML(\"<style>.container { width:100% !important; }</style>\"))"
   ]
  },
  {
   "cell_type": "code",
   "execution_count": 7,
   "metadata": {},
   "outputs": [
    {
     "ename": "ValueError",
     "evalue": "cannot rename 'i4' because it is not a variable or dimension in this dataset",
     "output_type": "error",
     "traceback": [
      "\u001b[0;31m---------------------------------------------------------------------------\u001b[0m",
      "\u001b[0;31mValueError\u001b[0m                                Traceback (most recent call last)",
      "\u001b[0;32m<ipython-input-7-f2f1cb6960fa>\u001b[0m in \u001b[0;36m<module>\u001b[0;34m\u001b[0m\n\u001b[1;32m      2\u001b[0m \u001b[0mtime_slice\u001b[0m \u001b[0;34m=\u001b[0m \u001b[0mnp\u001b[0m\u001b[0;34m.\u001b[0m\u001b[0marange\u001b[0m\u001b[0;34m(\u001b[0m\u001b[0;36m0\u001b[0m\u001b[0;34m,\u001b[0m\u001b[0;36m288\u001b[0m\u001b[0;34m)\u001b[0m\u001b[0;34m\u001b[0m\u001b[0;34m\u001b[0m\u001b[0m\n\u001b[1;32m      3\u001b[0m \u001b[0;34m\u001b[0m\u001b[0m\n\u001b[0;32m----> 4\u001b[0;31m \u001b[0mPDENS_ds\u001b[0m \u001b[0;34m=\u001b[0m \u001b[0mopen_datasets\u001b[0m\u001b[0;34m.\u001b[0m\u001b[0mopen_combine_raw_ECCO_tile_files\u001b[0m\u001b[0;34m(\u001b[0m\u001b[0mdata_dir\u001b[0m\u001b[0;34m,\u001b[0m\u001b[0;34m\"oceFWflx\"\u001b[0m\u001b[0;34m,\u001b[0m\u001b[0mtime_slice\u001b[0m\u001b[0;34m,\u001b[0m\u001b[0mrename_indices\u001b[0m\u001b[0;34m=\u001b[0m\u001b[0;32mTrue\u001b[0m\u001b[0;34m)\u001b[0m\u001b[0;34m\u001b[0m\u001b[0;34m\u001b[0m\u001b[0m\n\u001b[0m",
      "\u001b[0;32m~/Projects/ECCO-calculate-cross-isopycnal-mixing/analysis_package/open_datasets.py\u001b[0m in \u001b[0;36mopen_combine_raw_ECCO_tile_files\u001b[0;34m(path, VAR, time_slice, rename_indices)\u001b[0m\n\u001b[1;32m     52\u001b[0m         \u001b[0;32melif\u001b[0m \u001b[0mVAR\u001b[0m \u001b[0;34m==\u001b[0m \u001b[0;34m\"oceFWflx\"\u001b[0m \u001b[0;32mand\u001b[0m \u001b[0mrename_indices\u001b[0m\u001b[0;34m==\u001b[0m\u001b[0;32mTrue\u001b[0m\u001b[0;34m:\u001b[0m\u001b[0;34m\u001b[0m\u001b[0;34m\u001b[0m\u001b[0m\n\u001b[1;32m     53\u001b[0m                 \u001b[0;32mfor\u001b[0m \u001b[0mtile\u001b[0m \u001b[0;32min\u001b[0m \u001b[0mvariable_dict\u001b[0m\u001b[0;34m:\u001b[0m\u001b[0;34m\u001b[0m\u001b[0;34m\u001b[0m\u001b[0m\n\u001b[0;32m---> 54\u001b[0;31m                     \u001b[0mvariable_dict\u001b[0m\u001b[0;34m[\u001b[0m\u001b[0mtile\u001b[0m\u001b[0;34m]\u001b[0m \u001b[0;34m=\u001b[0m \u001b[0;34m(\u001b[0m\u001b[0mvariable_dict\u001b[0m\u001b[0;34m[\u001b[0m\u001b[0mtile\u001b[0m\u001b[0;34m]\u001b[0m\u001b[0;34m.\u001b[0m\u001b[0mrename\u001b[0m\u001b[0;34m(\u001b[0m\u001b[0;34m{\u001b[0m\u001b[0;34m\"i1\"\u001b[0m\u001b[0;34m:\u001b[0m\u001b[0;34m\"time\"\u001b[0m\u001b[0;34m,\u001b[0m \u001b[0;34m\"i3\"\u001b[0m\u001b[0;34m:\u001b[0m\u001b[0;34m\"j\"\u001b[0m\u001b[0;34m,\u001b[0m\u001b[0;34m\"i4\"\u001b[0m\u001b[0;34m:\u001b[0m\u001b[0;34m\"i\"\u001b[0m\u001b[0;34m}\u001b[0m\u001b[0;34m)\u001b[0m\u001b[0;34m)\u001b[0m\u001b[0;34m.\u001b[0m\u001b[0misel\u001b[0m\u001b[0;34m(\u001b[0m\u001b[0mtime\u001b[0m\u001b[0;34m=\u001b[0m\u001b[0mtime_slice\u001b[0m\u001b[0;34m)\u001b[0m\u001b[0;34m\u001b[0m\u001b[0;34m\u001b[0m\u001b[0m\n\u001b[0m\u001b[1;32m     55\u001b[0m         \u001b[0;32melif\u001b[0m \u001b[0mVAR\u001b[0m \u001b[0;34m==\u001b[0m \u001b[0;34m\"oceQnet\"\u001b[0m \u001b[0;32mand\u001b[0m \u001b[0mrename_indices\u001b[0m\u001b[0;34m==\u001b[0m\u001b[0;32mTrue\u001b[0m\u001b[0;34m:\u001b[0m\u001b[0;34m\u001b[0m\u001b[0;34m\u001b[0m\u001b[0m\n\u001b[1;32m     56\u001b[0m                 \u001b[0;32mfor\u001b[0m \u001b[0mtile\u001b[0m \u001b[0;32min\u001b[0m \u001b[0mvariable_dict\u001b[0m\u001b[0;34m:\u001b[0m\u001b[0;34m\u001b[0m\u001b[0;34m\u001b[0m\u001b[0m\n",
      "\u001b[0;32m/anaconda3/lib/python3.7/site-packages/xarray/core/dataset.py\u001b[0m in \u001b[0;36mrename\u001b[0;34m(self, name_dict, inplace, **names)\u001b[0m\n\u001b[1;32m   2350\u001b[0m             \u001b[0;32mif\u001b[0m \u001b[0mk\u001b[0m \u001b[0;32mnot\u001b[0m \u001b[0;32min\u001b[0m \u001b[0mself\u001b[0m \u001b[0;32mand\u001b[0m \u001b[0mk\u001b[0m \u001b[0;32mnot\u001b[0m \u001b[0;32min\u001b[0m \u001b[0mself\u001b[0m\u001b[0;34m.\u001b[0m\u001b[0mdims\u001b[0m\u001b[0;34m:\u001b[0m\u001b[0;34m\u001b[0m\u001b[0;34m\u001b[0m\u001b[0m\n\u001b[1;32m   2351\u001b[0m                 raise ValueError(\"cannot rename %r because it is not a \"\n\u001b[0;32m-> 2352\u001b[0;31m                                  \"variable or dimension in this dataset\" % k)\n\u001b[0m\u001b[1;32m   2353\u001b[0m \u001b[0;34m\u001b[0m\u001b[0m\n\u001b[1;32m   2354\u001b[0m         variables, coord_names, dims, indexes = self._rename_all(\n",
      "\u001b[0;31mValueError\u001b[0m: cannot rename 'i4' because it is not a variable or dimension in this dataset"
     ]
    }
   ],
   "source": [
    "data_dir = \"./nctiles_monthly/\"\n",
    "time_slice = np.arange(0,288)\n",
    "\n",
    "oceFWflx = open_datasets.open_combine_raw_ECCO_tile_files(data_dir,\"oceFWflx\",time_slice,rename_indices=True)\n",
    "oceQnet = open_datasets.open_combine_raw_ECCO_tile_files(data_dir,\"oceQnet\",time_slice,rename_indices=True)"
   ]
  },
  {
   "cell_type": "code",
   "execution_count": 5,
   "metadata": {},
   "outputs": [
    {
     "data": {
      "text/plain": [
       "<xarray.Dataset>\n",
       "Dimensions:   (i1: 288, i2: 90, i3: 90)\n",
       "Coordinates:\n",
       "  * i1        (i1) float64 1.0 2.0 3.0 4.0 5.0 ... 284.0 285.0 286.0 287.0 288.0\n",
       "  * i2        (i2) float64 1.0 2.0 3.0 4.0 5.0 6.0 ... 86.0 87.0 88.0 89.0 90.0\n",
       "  * i3        (i3) float64 1.0 2.0 3.0 4.0 5.0 6.0 ... 86.0 87.0 88.0 89.0 90.0\n",
       "    lon       (i2, i3) float64 ...\n",
       "    lat       (i2, i3) float64 ...\n",
       "    tim       (i1) datetime64[ns] ...\n",
       "Data variables:\n",
       "    oceFWflx  (i1, i2, i3) float64 ...\n",
       "    timstep   (i1) float64 ...\n",
       "    land      (i2, i3) float64 ...\n",
       "    area      (i2, i3) float64 ...\n",
       "Attributes:\n",
       "    description:    oceFWflx -- ECCO v4 ocean state estimate, release 3 -- 19...\n",
       "    A:              :Format      = native grid (nctiles w. 13 tiles)\n",
       "    B:              :source      = ECCO consortium (http://ecco-group.org/)\n",
       "    C:              :institution = JPL/UT/MIT/AER\n",
       "    D:              :history     = files revision history :\n",
       "    E:                                 04/20/2017: fill in geometry info for ...\n",
       "    F:                                 11/06/2016: third release of ECCO v4 (...\n",
       "    G:                             estimates revision history (from second re...\n",
       "    H:                                 employs bi-harmonic viscosity (enhance...\n",
       "    I:                                 sea-ice parameters, updated or novel o...\n",
       "    J:                                 GRACE OBP, Aquarius SSS, global mean s...\n",
       "    K:                                 time-series, extended and/or expanded ...\n",
       "    L:                                 revised weights including data and con...\n",
       "    M:                                 to account for grid-size variation and...\n",
       "    N:                                 separate time-mean and time-variable d...\n",
       "    O:                                 and controls, sea-ice costs, and initi...\n",
       "    P:                                 additional controls.\\n \n",
       "    Q:              :references  = Fukumori, I., O. Wang, I. Fenty, G. Forget...\n",
       "    R:                              ECCO Version 4 Release 3, http://hdl.hand...\n",
       "    S:                              Available at ftp://ecco.jpl.nasa.gov/Vers...\n",
       "    T:                             Forget, G., J.-M. Campin, P. Heimbach, C. ...\n",
       "    U:                              and C. Wunsch, 2015: ECCO version 4: an i...\n",
       "    V:                              non-linear inverse modeling and global oc...\n",
       "    W:                              Geoscientific Model Development, 8, 3071-...\n",
       "    date:           21-Apr-2017\n",
       "    Conventions:    CF-1.6\n",
       "    _FillValue:     nan\n",
       "    missing_value:  nan\n",
       "    program:        file created using gcmfaces_IO/write2nctiles.m \\n"
      ]
     },
     "execution_count": 5,
     "metadata": {},
     "output_type": "execute_result"
    }
   ],
   "source": [
    "xr.open_dataset(\"./nctiles_monthly/oceFWflx/oceFWflx.0001.nc\")"
   ]
  },
  {
   "cell_type": "code",
   "execution_count": null,
   "metadata": {},
   "outputs": [],
   "source": []
  }
 ],
 "metadata": {
  "kernelspec": {
   "display_name": "Python 3",
   "language": "python",
   "name": "python3"
  },
  "language_info": {
   "codemirror_mode": {
    "name": "ipython",
    "version": 3
   },
   "file_extension": ".py",
   "mimetype": "text/x-python",
   "name": "python",
   "nbconvert_exporter": "python",
   "pygments_lexer": "ipython3",
   "version": "3.7.3"
  }
 },
 "nbformat": 4,
 "nbformat_minor": 2
}
