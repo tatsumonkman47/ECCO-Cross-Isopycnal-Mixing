{
 "cells": [
  {
   "cell_type": "code",
   "execution_count": 1,
   "metadata": {},
   "outputs": [
    {
     "name": "stderr",
     "output_type": "stream",
     "text": [
      "/anaconda3/lib/python3.7/site-packages/dask/config.py:168: YAMLLoadWarning: calling yaml.load() without Loader=... is deprecated, as the default Loader is unsafe. Please read https://msg.pyyaml.org/load for full details.\n",
      "  data = yaml.load(f.read()) or {}\n",
      "/anaconda3/lib/python3.7/site-packages/distributed/config.py:20: YAMLLoadWarning: calling yaml.load() without Loader=... is deprecated, as the default Loader is unsafe. Please read https://msg.pyyaml.org/load for full details.\n",
      "  defaults = yaml.load(f)\n"
     ]
    },
    {
     "data": {
      "text/html": [
       "<style>.container { width:100% !important; }</style>"
      ],
      "text/plain": [
       "<IPython.core.display.HTML object>"
      ]
     },
     "metadata": {},
     "output_type": "display_data"
    }
   ],
   "source": [
    "import numpy as np\n",
    "import xarray as xr\n",
    "from importlib import reload\n",
    "\n",
    "from analysis_package import plotting_functions\n",
    "from analysis_package import open_datasets\n",
    "from analysis_package import derive_potential_density_values_TEST\n",
    "from analysis_package import ecco_masks\n",
    "\n",
    "ecco_masks = reload(ecco_masks)\n",
    "plotting_functions = reload(plotting_functions)\n",
    "open_datasets = reload(open_datasets)\n",
    "derive_potential_density_values_TEST = reload(derive_potential_density_values_TEST)\n",
    "\n",
    "from IPython.core.display import display, HTML\n",
    "display(HTML(\"<style>.container { width:100% !important; }</style>\"))"
   ]
  },
  {
   "cell_type": "code",
   "execution_count": 2,
   "metadata": {},
   "outputs": [],
   "source": [
    "data_dir = \"./nctiles_monthly/\"\n",
    "\n",
    "# PHIHYD: insitu pressure anomaly with respect to the depth integral of gravity and reference density (g*rho_reference)\n",
    "PHIHYD_var_str = \"PHIHYD\"\n",
    "# SALT: insitu salinity (psu)\n",
    "SALT_var_str = \"SALT\"\n",
    "# THETA: potential pressure (C)\n",
    "THETA_var_str = \"THETA\"\n",
    "\n",
    "#grid_path = \"./ecco_grid/ECCOv4r3_grid.nc\"\n",
    "#grid = xr.open_dataset(grid_path)"
   ]
  },
  {
   "cell_type": "code",
   "execution_count": 14,
   "metadata": {},
   "outputs": [
    {
     "name": "stdout",
     "output_type": "stream",
     "text": [
      "Loaded PHIHYD over time slice  \n",
      "\n",
      "Loaded SALT over time slice  \n",
      "\n",
      "Loaded THETA over time slice  \n",
      "\n"
     ]
    }
   ],
   "source": [
    "all_times_times_slice = np.arange(0,288)\n",
    "\n",
    "P_INSITU_ds = open_datasets.open_combine_raw_ECCO_tile_files(data_dir, \"P_INSITU\", all_times_times_slice)\n",
    "T_ISITU_ds = open_datasets.open_combine_raw_ECCO_tile_files(data_dir, \"T_INSITU\", all_times_times_slice)\n",
    "SALT_ds = open_datasets.open_combine_raw_ECCO_tile_files(data_dir, \"SALT\", all_times_times_slice)\n",
    "\n",
    "PHIHYD_ds_raw = PHIHYD_ds_raw.assign_coords(i=np.arange(0,90),j=np.arange(0,90),k=np.arange(0,50))\n",
    "SALT_ds_raw = SALT_ds_raw.assign_coords(i=np.arange(0,90),j=np.arange(0,90),k=np.arange(0,50))\n",
    "THETA_ds_raw = THETA_ds_raw.assign_coords(i=np.arange(0,90),j=np.arange(0,90),k=np.arange(0,50))\n"
   ]
  },
  {
   "cell_type": "code",
   "execution_count": 15,
   "metadata": {},
   "outputs": [
    {
     "name": "stdout",
     "output_type": "stream",
     "text": [
      "Frozen(SortedKeysDict({'time': 288, 'k': 50, 'j': 90, 'i': 90, 'tile': 13}))\n"
     ]
    }
   ],
   "source": [
    "print(PHIHYD_ds_raw.dims)"
   ]
  },
  {
   "cell_type": "code",
   "execution_count": 25,
   "metadata": {
    "scrolled": false
   },
   "outputs": [
    {
     "name": "stdout",
     "output_type": "stream",
     "text": [
      "saved P_INSITU.0001.nc\n",
      "saved T_INSITU.0001.nc\n",
      "finished 1\n",
      "saved P_INSITU.0002.nc\n",
      "saved T_INSITU.0002.nc\n",
      "finished 2\n",
      "saved P_INSITU.0003.nc\n",
      "saved T_INSITU.0003.nc\n",
      "finished 3\n",
      "saved P_INSITU.0004.nc\n",
      "saved T_INSITU.0004.nc\n",
      "finished 4\n",
      "saved P_INSITU.0005.nc\n",
      "saved T_INSITU.0005.nc\n",
      "finished 5\n",
      "saved P_INSITU.0006.nc\n",
      "saved T_INSITU.0006.nc\n",
      "finished 6\n",
      "saved P_INSITU.0007.nc\n",
      "saved T_INSITU.0007.nc\n",
      "finished 7\n",
      "saved P_INSITU.0008.nc\n",
      "saved T_INSITU.0008.nc\n",
      "finished 8\n",
      "saved P_INSITU.0009.nc\n",
      "saved T_INSITU.0009.nc\n",
      "finished 9\n",
      "saved P_INSITU.0010.nc\n",
      "saved T_INSITU.0010.nc\n",
      "finished 10\n",
      "saved P_INSITU.0011.nc\n",
      "saved T_INSITU.0011.nc\n",
      "finished 11\n",
      "saved P_INSITU.0012.nc\n",
      "saved T_INSITU.0012.nc\n",
      "finished 12\n",
      "saved P_INSITU.0013.nc\n",
      "saved T_INSITU.0013.nc\n",
      "finished 13\n"
     ]
    }
   ],
   "source": [
    "\"\"\"\n",
    "for i in range(1,14):\n",
    "    PDENS_ds, P_INSITU_ds, T_ISITU_ds = derive_potential_density_values_TEST.make_potential_density_dataset(PHIHYD_ds_raw.isel(tile=i-1), \n",
    "                                                                                            SALT_ds_raw.isel(tile=i-1), \n",
    "                                                                                            THETA_ds_raw.isel(tile=i-1), \n",
    "                                                                                            all_times_times_slice, \n",
    "                                                                                            ref_pressure=2000.)\n",
    "    if i < 10:\n",
    "        #PDENS_ds.to_netcdf(\"./nctiles_monthly/PDENS/PDENS.000\"+str(i)+\".nc\")\n",
    "        P_INSITU_ds.to_netcdf(\"../../Datasets-For-Projects/ECCO_Datasets/nctiles_monthly/P_INSITU/P_INSITU.000\"+str(i)+\".nc\")\n",
    "        print(\"saved P_INSITU.000\"+str(i)+\".nc\")\n",
    "        T_ISITU_ds.to_netcdf(\"../../Datasets-For-Projects/ECCO_Datasets/nctiles_monthly/T_INSITU/T_INSITU.000\"+str(i)+\".nc\")\n",
    "        print(\"saved T_INSITU.000\"+str(i)+\".nc\")\n",
    "    else:\n",
    "        #PDENS_ds.to_netcdf(\"./nctiles_monthly/PDENS/PDENS.00\"+str(i)+\".nc\")\n",
    "        P_INSITU_ds.to_netcdf(\"../../Datasets-For-Projects/ECCO_Datasets/nctiles_monthly/P_INSITU/P_INSITU.00\"+str(i)+\".nc\")\n",
    "        print(\"saved P_INSITU.00\"+str(i)+\".nc\")\n",
    "        T_ISITU_ds.to_netcdf(\"../../Datasets-For-Projects/ECCO_Datasets/nctiles_monthly/T_INSITU/T_INSITU.00\"+str(i)+\".nc\")\n",
    "        print(\"saved T_INSITU.00\"+str(i)+\".nc\")\n",
    "\n",
    "    print(\"finished \"+str(i))\n",
    "\"\"\""
   ]
  },
  {
   "cell_type": "code",
   "execution_count": 24,
   "metadata": {},
   "outputs": [
    {
     "ename": "FileNotFoundError",
     "evalue": "[Errno 2] No such file or directory: '../../Datasets-For-Projects/ECCO_Datasets/nctiles_monthly/T_ISITU/'",
     "output_type": "error",
     "traceback": [
      "\u001b[0;31m---------------------------------------------------------------------------\u001b[0m",
      "\u001b[0;31mFileNotFoundError\u001b[0m                         Traceback (most recent call last)",
      "\u001b[0;32m<ipython-input-24-89efcd9db5f5>\u001b[0m in \u001b[0;36m<module>\u001b[0;34m\u001b[0m\n\u001b[1;32m      1\u001b[0m \u001b[0;32mimport\u001b[0m \u001b[0mos\u001b[0m\u001b[0;34m\u001b[0m\u001b[0;34m\u001b[0m\u001b[0m\n\u001b[0;32m----> 2\u001b[0;31m \u001b[0mprint\u001b[0m\u001b[0;34m(\u001b[0m\u001b[0mos\u001b[0m\u001b[0;34m.\u001b[0m\u001b[0mlistdir\u001b[0m\u001b[0;34m(\u001b[0m\u001b[0;34m\"../../Datasets-For-Projects/ECCO_Datasets/nctiles_monthly/T_ISITU/\"\u001b[0m\u001b[0;34m)\u001b[0m\u001b[0;34m)\u001b[0m\u001b[0;34m\u001b[0m\u001b[0;34m\u001b[0m\u001b[0m\n\u001b[0m",
      "\u001b[0;31mFileNotFoundError\u001b[0m: [Errno 2] No such file or directory: '../../Datasets-For-Projects/ECCO_Datasets/nctiles_monthly/T_ISITU/'"
     ]
    }
   ],
   "source": [
    "import os\n",
    "print(os.listdir(\"../../Datasets-For-Projects/ECCO_Datasets/nctiles_monthly/T_ISITU/\"))"
   ]
  },
  {
   "cell_type": "code",
   "execution_count": null,
   "metadata": {},
   "outputs": [],
   "source": [
    "print(SALT_ds_raw)"
   ]
  },
  {
   "cell_type": "code",
   "execution_count": null,
   "metadata": {},
   "outputs": [],
   "source": []
  }
 ],
 "metadata": {
  "kernelspec": {
   "display_name": "Python 3",
   "language": "python",
   "name": "python3"
  },
  "language_info": {
   "codemirror_mode": {
    "name": "ipython",
    "version": 3
   },
   "file_extension": ".py",
   "mimetype": "text/x-python",
   "name": "python",
   "nbconvert_exporter": "python",
   "pygments_lexer": "ipython3",
   "version": "3.7.3"
  }
 },
 "nbformat": 4,
 "nbformat_minor": 2
}
