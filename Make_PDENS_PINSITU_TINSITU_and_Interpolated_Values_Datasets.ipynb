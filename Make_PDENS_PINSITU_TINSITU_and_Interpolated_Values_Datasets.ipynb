{
 "cells": [
  {
   "cell_type": "code",
   "execution_count": 15,
   "metadata": {},
   "outputs": [
    {
     "data": {
      "text/html": [
       "<style>.container { width:100% !important; }</style>"
      ],
      "text/plain": [
       "<IPython.core.display.HTML object>"
      ]
     },
     "metadata": {},
     "output_type": "display_data"
    }
   ],
   "source": [
    "import numpy as np\n",
    "import xarray as xr\n",
    "from importlib import reload\n",
    "\n",
    "from analysis_package import plotting_functions\n",
    "from analysis_package import open_datasets\n",
    "from analysis_package import derive_potential_density_values_TEST\n",
    "from analysis_package import ecco_masks\n",
    "from analysis_package import interpolation\n",
    "\n",
    "interpolation = reload(interpolation)\n",
    "ecco_masks = reload(ecco_masks)\n",
    "plotting_functions = reload(plotting_functions)\n",
    "open_datasets = reload(open_datasets)\n",
    "derive_potential_density_values_TEST = reload(derive_potential_density_values_TEST)\n",
    "\n",
    "from IPython.core.display import display, HTML\n",
    "display(HTML(\"<style>.container { width:100% !important; }</style>\"))"
   ]
  },
  {
   "cell_type": "code",
   "execution_count": 13,
   "metadata": {},
   "outputs": [],
   "source": [
    "data_dir = \"./nctiles_monthly/\"\n",
    "\n",
    "# PHIHYD: insitu pressure anomaly with respect to the depth integral of gravity and reference density (g*rho_reference)\n",
    "PHIHYD_var_str = \"PHIHYD\"\n",
    "# SALT: insitu salinity (psu)\n",
    "SALT_var_str = \"SALT\"\n",
    "# THETA: potential pressure (C)\n",
    "THETA_var_str = \"THETA\"\n",
    "\n",
    "######################################################################################################################\n",
    "################################################### LOAD GRID ########################################################\n",
    "######################################################################################################################\n",
    "\n",
    "grid_path = \"./ecco_grid/ECCOv4r3_grid.nc\"\n",
    "grid = xr.open_dataset(grid_path)"
   ]
  },
  {
   "cell_type": "code",
   "execution_count": 4,
   "metadata": {},
   "outputs": [
    {
     "name": "stdout",
     "output_type": "stream",
     "text": [
      "Loaded P_INSITU over time slice  \n",
      "\n",
      "Loaded T_INSITU over time slice  \n",
      "\n",
      "Loaded SALT over time slice  \n",
      "\n"
     ]
    }
   ],
   "source": [
    "all_times_times_slice = np.arange(0,288)\n",
    "\n",
    "P_INSITU_ds_raw = open_datasets.open_combine_raw_ECCO_tile_files(data_dir, \"P_INSITU\", all_times_times_slice,rename_indices=False)\n",
    "T_INSITU_ds_raw = open_datasets.open_combine_raw_ECCO_tile_files(data_dir, \"T_INSITU\", all_times_times_slice,rename_indices=False)\n",
    "SALT_ds_raw = open_datasets.open_combine_raw_ECCO_tile_files(data_dir, \"SALT\", all_times_times_slice,rename_indices=True)\n",
    "\n",
    "tile_coords = np.arange(0,13)\n",
    "P_INSITU_ds = P_INSITU_ds_raw.assign_coords(i=np.arange(0,90),j=np.arange(0,90),k=np.arange(0,50)).assign_coords(tile=tile_coords)\n",
    "T_INSITU_ds = T_INSITU_ds_raw.assign_coords(i=np.arange(0,90),j=np.arange(0,90),k=np.arange(0,50)).assign_coords(tile=tile_coords)\n",
    "SALT_ds = SALT_ds_raw.assign_coords(i=np.arange(0,90),j=np.arange(0,90),k=np.arange(0,50)).assign_coords(tile=tile_coords)\n"
   ]
  },
  {
   "cell_type": "code",
   "execution_count": 18,
   "metadata": {},
   "outputs": [
    {
     "name": "stdout",
     "output_type": "stream",
     "text": [
      "<xarray.Dataset>\n",
      "Dimensions:   (i: 90, j: 90, k: 50, tile: 13, time: 288)\n",
      "Coordinates:\n",
      "  * time      (time) float64 1.0 2.0 3.0 4.0 5.0 ... 285.0 286.0 287.0 288.0\n",
      "  * i         (i) int64 0 1 2 3 4 5 6 7 8 9 10 ... 80 81 82 83 84 85 86 87 88 89\n",
      "    tim       (time) datetime64[ns] 1992-01-16 1992-02-16 ... 2015-12-16\n",
      "  * j         (j) int64 0 1 2 3 4 5 6 7 8 9 10 ... 80 81 82 83 84 85 86 87 88 89\n",
      "    dep       (k) float64 5.0 15.0 25.0 35.0 ... 5.039e+03 5.461e+03 5.906e+03\n",
      "  * k         (k) int64 0 1 2 3 4 5 6 7 8 9 10 ... 40 41 42 43 44 45 46 47 48 49\n",
      "    lat       (tile, j, i) float64 -88.24 -88.38 -88.52 ... -88.03 -88.08 -88.1\n",
      "    lon       (tile, j, i) float64 -111.6 -111.3 -110.9 ... -99.42 -105.6 -111.9\n",
      "  * tile      (tile) int64 0 1 2 3 4 5 6 7 8 9 10 11 12\n",
      "Data variables:\n",
      "    P_INSITU  (tile, time, k, j, i) float64 nan nan nan nan ... nan nan nan nan\n",
      "    timstep   (tile, time) float64 0.0 0.0 0.0 0.0 0.0 ... 0.0 0.0 0.0 0.0 0.0\n",
      "    land      (tile, k, j, i) float64 nan nan nan nan nan ... nan nan nan nan\n",
      "    area      (tile, j, i) float64 0.0 0.0 0.0 0.0 0.0 ... 0.0 0.0 0.0 0.0 0.0\n",
      "    thic      (tile, k) float64 0.0 0.0 0.0 0.0 0.0 0.0 ... 0.0 0.0 0.0 0.0 0.0\n",
      "Attributes:\n",
      "    description:    PHIHYD -- ECCO v4 ocean state estimate, release 3 -- 1992...\n",
      "    A:              :Format      = native grid (nctiles w. 13 tiles)\n",
      "    B:              :source      = ECCO consortium (http://ecco-group.org/)\n",
      "    C:              :institution = JPL/UT/MIT/AER\n",
      "    D:              :history     = files revision history :\n",
      "    E:                                 04/20/2017: fill in geometry info for ...\n",
      "    F:                                 11/06/2016: third release of ECCO v4 (...\n",
      "    G:                             estimates revision history (from second re...\n",
      "    H:                                 employs bi-harmonic viscosity (enhance...\n",
      "    I:                                 sea-ice parameters, updated or novel o...\n",
      "    J:                                 GRACE OBP, Aquarius SSS, global mean s...\n",
      "    K:                                 time-series, extended and/or expanded ...\n",
      "    L:                                 revised weights including data and con...\n",
      "    M:                                 to account for grid-size variation and...\n",
      "    N:                                 separate time-mean and time-variable d...\n",
      "    O:                                 and controls, sea-ice costs, and initi...\n",
      "    P:                                 additional controls.\\n \n",
      "    Q:              :references  = Fukumori, I., O. Wang, I. Fenty, G. Forget...\n",
      "    R:                              ECCO Version 4 Release 3, http://hdl.hand...\n",
      "    S:                              Available at ftp://ecco.jpl.nasa.gov/Vers...\n",
      "    T:                             Forget, G., J.-M. Campin, P. Heimbach, C. ...\n",
      "    U:                              and C. Wunsch, 2015: ECCO version 4: an i...\n",
      "    V:                              non-linear inverse modeling and global oc...\n",
      "    W:                              Geoscientific Model Development, 8, 3071-...\n",
      "    date:           21-Apr-2017\n",
      "    Conventions:    CF-1.6\n",
      "    _FillValue:     nan\n",
      "    missing_value:  nan\n",
      "    program:        file created using gcmfaces_IO/write2nctiles.m \\n\n"
     ]
    }
   ],
   "source": [
    "print(P_INSITU_ds)"
   ]
  },
  {
   "cell_type": "code",
   "execution_count": 5,
   "metadata": {
    "scrolled": false
   },
   "outputs": [
    {
     "data": {
      "text/plain": [
       "'\\nfor i in range(1,14):\\n    PDENS_ds, P_INSITU_ds, T_ISITU_ds = derive_potential_density_values_TEST.make_potential_density_dataset(PHIHYD_ds_raw.isel(tile=i-1), \\n                                                                                            SALT_ds_raw.isel(tile=i-1), \\n                                                                                            THETA_ds_raw.isel(tile=i-1), \\n                                                                                            all_times_times_slice, \\n                                                                                            ref_pressure=2000.)\\n    if i < 10:\\n        #PDENS_ds.to_netcdf(\"./nctiles_monthly/PDENS/PDENS.000\"+str(i)+\".nc\")\\n        P_INSITU_ds.to_netcdf(\"../../Datasets-For-Projects/ECCO_Datasets/nctiles_monthly/P_INSITU/P_INSITU.000\"+str(i)+\".nc\")\\n        print(\"saved P_INSITU.000\"+str(i)+\".nc\")\\n        T_ISITU_ds.to_netcdf(\"../../Datasets-For-Projects/ECCO_Datasets/nctiles_monthly/T_INSITU/T_INSITU.000\"+str(i)+\".nc\")\\n        print(\"saved T_INSITU.000\"+str(i)+\".nc\")\\n    else:\\n        #PDENS_ds.to_netcdf(\"./nctiles_monthly/PDENS/PDENS.00\"+str(i)+\".nc\")\\n        P_INSITU_ds.to_netcdf(\"../../Datasets-For-Projects/ECCO_Datasets/nctiles_monthly/P_INSITU/P_INSITU.00\"+str(i)+\".nc\")\\n        print(\"saved P_INSITU.00\"+str(i)+\".nc\")\\n        T_ISITU_ds.to_netcdf(\"../../Datasets-For-Projects/ECCO_Datasets/nctiles_monthly/T_INSITU/T_INSITU.00\"+str(i)+\".nc\")\\n        print(\"saved T_INSITU.00\"+str(i)+\".nc\")\\n\\n    print(\"finished \"+str(i))\\n'"
      ]
     },
     "execution_count": 5,
     "metadata": {},
     "output_type": "execute_result"
    }
   ],
   "source": [
    "# This script is for deriving these state values given ECCO variables\n",
    "\n",
    "\n",
    "\"\"\"\n",
    "for i in range(1,14):\n",
    "    PDENS_ds, P_INSITU_ds, T_ISITU_ds = derive_potential_density_values_TEST.make_potential_density_dataset(PHIHYD_ds_raw.isel(tile=i-1), \n",
    "                                                                                            SALT_ds_raw.isel(tile=i-1), \n",
    "                                                                                            THETA_ds_raw.isel(tile=i-1), \n",
    "                                                                                            all_times_times_slice, \n",
    "                                                                                            ref_pressure=2000.)\n",
    "    if i < 10:\n",
    "        #PDENS_ds.to_netcdf(\"./nctiles_monthly/PDENS/PDENS.000\"+str(i)+\".nc\")\n",
    "        P_INSITU_ds.to_netcdf(\"../../Datasets-For-Projects/ECCO_Datasets/nctiles_monthly/P_INSITU/P_INSITU.000\"+str(i)+\".nc\")\n",
    "        print(\"saved P_INSITU.000\"+str(i)+\".nc\")\n",
    "        T_ISITU_ds.to_netcdf(\"../../Datasets-For-Projects/ECCO_Datasets/nctiles_monthly/T_INSITU/T_INSITU.000\"+str(i)+\".nc\")\n",
    "        print(\"saved T_INSITU.000\"+str(i)+\".nc\")\n",
    "    else:\n",
    "        #PDENS_ds.to_netcdf(\"./nctiles_monthly/PDENS/PDENS.00\"+str(i)+\".nc\")\n",
    "        P_INSITU_ds.to_netcdf(\"../../Datasets-For-Projects/ECCO_Datasets/nctiles_monthly/P_INSITU/P_INSITU.00\"+str(i)+\".nc\")\n",
    "        print(\"saved P_INSITU.00\"+str(i)+\".nc\")\n",
    "        T_ISITU_ds.to_netcdf(\"../../Datasets-For-Projects/ECCO_Datasets/nctiles_monthly/T_INSITU/T_INSITU.00\"+str(i)+\".nc\")\n",
    "        print(\"saved T_INSITU.00\"+str(i)+\".nc\")\n",
    "\n",
    "    print(\"finished \"+str(i))\n",
    "\"\"\""
   ]
  },
  {
   "cell_type": "code",
   "execution_count": 19,
   "metadata": {},
   "outputs": [
    {
     "name": "stdout",
     "output_type": "stream",
     "text": [
      "checkpoint 1\n",
      "checkpoint 2\n",
      "checkpoint 3\n",
      "checkpoint 4\n",
      "checkpoint 5\n",
      "checkpoint 1\n",
      "checkpoint 2\n",
      "checkpoint 3\n",
      "checkpoint 4\n",
      "checkpoint 5\n"
     ]
    }
   ],
   "source": [
    "P_INSITU_at_u_points, slope, j = interpolation.interpolate_c_to_u(P_INSITU_ds.P_INSITU.isel(k=slice(0,1)),grid)\n",
    "P_INSITU_at_v_points, slope, j = interpolation.interpolate_c_to_v(P_INSITU_ds.P_INSITU.isel(k=slice(0,1)),grid)"
   ]
  },
  {
   "cell_type": "code",
   "execution_count": 28,
   "metadata": {},
   "outputs": [
    {
     "name": "stdout",
     "output_type": "stream",
     "text": [
      "saved P_INSITU_U_surfacelvl.0001.nc\n",
      "saved P_INSITU_V_surfacelvl.0001.nc\n",
      "saved P_INSITU_U_surfacelvl.0002.nc\n",
      "saved P_INSITU_V_surfacelvl.0002.nc\n",
      "saved P_INSITU_U_surfacelvl.0003.nc\n",
      "saved P_INSITU_V_surfacelvl.0003.nc\n",
      "saved P_INSITU_U_surfacelvl.0004.nc\n",
      "saved P_INSITU_V_surfacelvl.0004.nc\n",
      "saved P_INSITU_U_surfacelvl.0005.nc\n",
      "saved P_INSITU_V_surfacelvl.0005.nc\n",
      "saved P_INSITU_U_surfacelvl.0006.nc\n",
      "saved P_INSITU_V_surfacelvl.0006.nc\n",
      "saved P_INSITU_U_surfacelvl.0007.nc\n",
      "saved P_INSITU_V_surfacelvl.0007.nc\n",
      "saved P_INSITU_U_surfacelvl.0008.nc\n",
      "saved P_INSITU_V_surfacelvl.0008.nc\n",
      "saved P_INSITU_U_surfacelvl.0009.nc\n",
      "saved P_INSITU_V_surfacelvl.0009.nc\n",
      "saved P_INSITU_U_surfacelvl.0010.nc\n",
      "saved P_INSITU_V_surfacelvl.0010.nc\n",
      "saved P_INSITU_U_surfacelvl.0011.nc\n",
      "saved P_INSITU_V_surfacelvl.0011.nc\n",
      "saved P_INSITU_U_surfacelvl.0012.nc\n",
      "saved P_INSITU_V_surfacelvl.0012.nc\n",
      "saved P_INSITU_U_surfacelvl.0013.nc\n",
      "saved P_INSITU_V_surfacelvl.0013.nc\n"
     ]
    }
   ],
   "source": [
    "for i in range(1,14):\n",
    "\n",
    "    if i < 10:\n",
    "        #PDENS_ds.to_netcdf(\"./nctiles_monthly/PDENS/PDENS.000\"+str(i)+\".nc\")\n",
    "        P_INSITU_at_u_points.isel(tile=i-1,k=0).to_netcdf(\"../../../Datasets-For-Projects/ECCO_Datasets/nctiles_monthly/P_INSITU_U_surfacelvl/P_INSITU_U_surfacelvl.000\"+str(i)+\".nc\")\n",
    "        print(\"saved P_INSITU_U_surfacelvl.000\"+str(i)+\".nc\")\n",
    "        P_INSITU_at_v_points.isel(tile=i-1,k=0).to_netcdf(\"../../../Datasets-For-Projects/ECCO_Datasets/nctiles_monthly/P_INSITU_V_surfacelvl/P_INSITU_V_surfacelvl.000\"+str(i)+\".nc\")        \n",
    "        print(\"saved P_INSITU_V_surfacelvl.000\"+str(i)+\".nc\")\n",
    "    else:\n",
    "        #PDENS_ds.to_netcdf(\"./nctiles_monthly/PDENS/PDENS.00\"+str(i)+\".nc\")\n",
    "        P_INSITU_at_u_points.isel(tile=i-1,k=0).to_netcdf(\"../../../Datasets-For-Projects/ECCO_Datasets/nctiles_monthly/P_INSITU_U_surfacelvl/P_INSITU_U_surfacelvl.00\"+str(i)+\".nc\")\n",
    "        print(\"saved P_INSITU_U_surfacelvl.00\"+str(i)+\".nc\")\n",
    "        P_INSITU_at_v_points.isel(tile=i-1,k=0).to_netcdf(\"../../../Datasets-For-Projects/ECCO_Datasets/nctiles_monthly/P_INSITU_V_surfacelvl/P_INSITU_V_surfacelvl.00\"+str(i)+\".nc\")\n",
    "        print(\"saved P_INSITU_V_surfacelvl.00\"+str(i)+\".nc\")"
   ]
  },
  {
   "cell_type": "code",
   "execution_count": 29,
   "metadata": {},
   "outputs": [
    {
     "name": "stdout",
     "output_type": "stream",
     "text": [
      "checkpoint 1\n",
      "checkpoint 2\n",
      "checkpoint 3\n",
      "checkpoint 4\n",
      "checkpoint 5\n",
      "checkpoint 1\n",
      "checkpoint 2\n",
      "checkpoint 3\n",
      "checkpoint 4\n",
      "checkpoint 5\n",
      "saved T_INSITU_U_surfacelvl.0001.nc\n",
      "saved T_INSITU_V_surfacelvl.0001.nc\n",
      "saved T_INSITU_U_surfacelvl.0002.nc\n",
      "saved T_INSITU_V_surfacelvl.0002.nc\n",
      "saved T_INSITU_U_surfacelvl.0003.nc\n",
      "saved T_INSITU_V_surfacelvl.0003.nc\n",
      "saved T_INSITU_U_surfacelvl.0004.nc\n",
      "saved T_INSITU_V_surfacelvl.0004.nc\n",
      "saved T_INSITU_U_surfacelvl.0005.nc\n",
      "saved T_INSITU_V_surfacelvl.0005.nc\n",
      "saved T_INSITU_U_surfacelvl.0006.nc\n",
      "saved T_INSITU_V_surfacelvl.0006.nc\n",
      "saved T_INSITU_U_surfacelvl.0007.nc\n",
      "saved T_INSITU_V_surfacelvl.0007.nc\n",
      "saved T_INSITU_U_surfacelvl.0008.nc\n",
      "saved T_INSITU_V_surfacelvl.0008.nc\n",
      "saved T_INSITU_U_surfacelvl.0009.nc\n",
      "saved T_INSITU_V_surfacelvl.0009.nc\n",
      "saved T_INSITU_U_surfacelvl.0010.nc\n",
      "saved T_INSITU_V_surfacelvl.0010.nc\n",
      "saved T_INSITU_U_surfacelvl.0011.nc\n",
      "saved T_INSITU_V_surfacelvl.0011.nc\n",
      "saved T_INSITU_U_surfacelvl.0012.nc\n",
      "saved T_INSITU_V_surfacelvl.0012.nc\n",
      "saved T_INSITU_U_surfacelvl.0013.nc\n",
      "saved T_INSITU_V_surfacelvl.0013.nc\n"
     ]
    }
   ],
   "source": [
    "T_INSITU_at_u_points, slope, j = interpolation.interpolate_c_to_u(T_INSITU_ds.TEMP_INSITU.isel(k=slice(0,1)),grid)\n",
    "T_INSITU_at_v_points, slope, j = interpolation.interpolate_c_to_v(T_INSITU_ds.TEMP_INSITU.isel(k=slice(0,1)),grid)\n",
    "\n",
    "for i in range(1,14):\n",
    "    if i < 10:\n",
    "        #PDENS_ds.to_netcdf(\"./nctiles_monthly/PDENS/PDENS.000\"+str(i)+\".nc\")\n",
    "        T_INSITU_at_u_points.isel(tile=i-1,k=0).to_netcdf(\"../../../Datasets-For-Projects/ECCO_Datasets/nctiles_monthly/T_INSITU_U_surfacelvl/T_INSITU_U_surfacelvl.000\"+str(i)+\".nc\")\n",
    "        print(\"saved T_INSITU_U_surfacelvl.000\"+str(i)+\".nc\")\n",
    "        T_INSITU_at_v_points.isel(tile=i-1,k=0).to_netcdf(\"../../../Datasets-For-Projects/ECCO_Datasets/nctiles_monthly/T_INSITU_V_surfacelvl/T_INSITU_V_surfacelvl.000\"+str(i)+\".nc\")        \n",
    "        print(\"saved T_INSITU_V_surfacelvl.000\"+str(i)+\".nc\")\n",
    "    else:\n",
    "        #PDENS_ds.to_netcdf(\"./nctiles_monthly/PDENS/PDENS.00\"+str(i)+\".nc\")\n",
    "        T_INSITU_at_u_points.isel(tile=i-1,k=0).to_netcdf(\"../../../Datasets-For-Projects/ECCO_Datasets/nctiles_monthly/T_INSITU_U_surfacelvl/T_INSITU_U_surfacelvl.00\"+str(i)+\".nc\")\n",
    "        print(\"saved T_INSITU_U_surfacelvl.00\"+str(i)+\".nc\")\n",
    "        T_INSITU_at_v_points.isel(tile=i-1,k=0).to_netcdf(\"../../../Datasets-For-Projects/ECCO_Datasets/nctiles_monthly/T_INSITU_V_surfacelvl/T_INSITU_V_surfacelvl.00\"+str(i)+\".nc\")\n",
    "        print(\"saved T_INSITU_V_surfacelvl.00\"+str(i)+\".nc\")\n",
    "        \n"
   ]
  },
  {
   "cell_type": "code",
   "execution_count": 30,
   "metadata": {},
   "outputs": [
    {
     "name": "stdout",
     "output_type": "stream",
     "text": [
      "checkpoint 1\n",
      "checkpoint 2\n",
      "checkpoint 3\n",
      "checkpoint 4\n",
      "checkpoint 5\n",
      "checkpoint 1\n",
      "checkpoint 2\n",
      "checkpoint 3\n",
      "checkpoint 4\n",
      "checkpoint 5\n",
      "saved SALT_U_surfacelvl.0001.nc\n",
      "saved SALT_V_surfacelvl.0001.nc\n",
      "saved SALT_U_surfacelvl.0002.nc\n",
      "saved SALT_V_surfacelvl.0002.nc\n",
      "saved SALT_U_surfacelvl.0003.nc\n",
      "saved SALT_V_surfacelvl.0003.nc\n",
      "saved SALT_U_surfacelvl.0004.nc\n",
      "saved SALT_V_surfacelvl.0004.nc\n",
      "saved SALT_U_surfacelvl.0005.nc\n",
      "saved SALT_V_surfacelvl.0005.nc\n",
      "saved SALT_U_surfacelvl.0006.nc\n",
      "saved SALT_V_surfacelvl.0006.nc\n",
      "saved SALT_U_surfacelvl.0007.nc\n",
      "saved SALT_V_surfacelvl.0007.nc\n",
      "saved SALT_U_surfacelvl.0008.nc\n",
      "saved SALT_V_surfacelvl.0008.nc\n",
      "saved SALT_U_surfacelvl.0009.nc\n",
      "saved SALT_V_surfacelvl.0009.nc\n",
      "saved SALT_U_surfacelvl.0010.nc\n",
      "saved SALT_V_surfacelvl.0010.nc\n",
      "saved SALT_U_surfacelvl.0011.nc\n",
      "saved SALT_V_surfacelvl.0011.nc\n",
      "saved SALT_U_surfacelvl.0012.nc\n",
      "saved SALT_V_surfacelvl.0012.nc\n",
      "saved SALT_U_surfacelvl.0013.nc\n",
      "saved SALT_V_surfacelvl.0013.nc\n"
     ]
    }
   ],
   "source": [
    "SALT_at_u_points, slope, j = interpolation.interpolate_c_to_u(SALT_ds.SALT.isel(k=slice(0,1)),grid)\n",
    "SALT_at_v_points, slope, j = interpolation.interpolate_c_to_v(SALT_ds.SALT.isel(k=slice(0,1)),grid)\n",
    "\n",
    "for i in range(1,14):\n",
    "    if i < 10:\n",
    "        #PDENS_ds.to_netcdf(\"./nctiles_monthly/PDENS/PDENS.000\"+str(i)+\".nc\")\n",
    "        SALT_at_u_points.isel(tile=i-1,k=0).to_netcdf(\"../../../Datasets-For-Projects/ECCO_Datasets/nctiles_monthly/SALT_U_surfacelvl/SALT_U_surfacelvl.000\"+str(i)+\".nc\")\n",
    "        print(\"saved SALT_U_surfacelvl.000\"+str(i)+\".nc\")\n",
    "        SALT_at_v_points.isel(tile=i-1,k=0).to_netcdf(\"../../../Datasets-For-Projects/ECCO_Datasets/nctiles_monthly/SALT_V_surfacelvl/SALT_V_surfacelvl.000\"+str(i)+\".nc\")        \n",
    "        print(\"saved SALT_V_surfacelvl.000\"+str(i)+\".nc\")\n",
    "    else:\n",
    "        #PDENS_ds.to_netcdf(\"./nctiles_monthly/PDENS/PDENS.00\"+str(i)+\".nc\")\n",
    "        SALT_at_u_points.isel(tile=i-1,k=0).to_netcdf(\"../../../Datasets-For-Projects/ECCO_Datasets/nctiles_monthly/SALT_U_surfacelvl/SALT_U_surfacelvl.00\"+str(i)+\".nc\")\n",
    "        print(\"saved SALT_U_surfacelvl.00\"+str(i)+\".nc\")\n",
    "        T_INSITU_at_v_points.isel(tile=i-1,k=0).to_netcdf(\"../../../Datasets-For-Projects/ECCO_Datasets/nctiles_monthly/SALT_V_surfacelvl/SALT_V_surfacelvl.00\"+str(i)+\".nc\")\n",
    "        print(\"saved SALT_V_surfacelvl.00\"+str(i)+\".nc\")\n"
   ]
  },
  {
   "cell_type": "code",
   "execution_count": null,
   "metadata": {},
   "outputs": [],
   "source": []
  }
 ],
 "metadata": {
  "kernelspec": {
   "display_name": "Python 3",
   "language": "python",
   "name": "python3"
  },
  "language_info": {
   "codemirror_mode": {
    "name": "ipython",
    "version": 3
   },
   "file_extension": ".py",
   "mimetype": "text/x-python",
   "name": "python",
   "nbconvert_exporter": "python",
   "pygments_lexer": "ipython3",
   "version": "3.7.3"
  }
 },
 "nbformat": 4,
 "nbformat_minor": 2
}
